{
 "cells": [
  {
   "cell_type": "code",
   "execution_count": null,
   "metadata": {},
   "outputs": [],
   "source": [
    "import pandas as pd\n",
    "import numpy as np\n",
    "import os\n",
    "import sys\n",
    "sys.path.insert(0,'\\\\'.join(sys.path[0].split('\\\\')[:-1]))\n",
    "from src.config import BASE_DIR\n",
    "\n",
    "main_dir = os.path.abspath(os.path.join(BASE_DIR,'..'))\n",
    "project_dir = BASE_DIR\n",
    "\n",
    "\n",
    "from src.data.load_raw import load_all, load_mensual_data\n",
    "from src.data.compiling_raw_files import compile_all\n",
    "from src.data.merge_sources import merge_all\n",
    "from src.data.standard_simple_merged import clean_standard\n",
    "from src.client.csin_client import CSIN_Client\n",
    "\n",
    "import warnings\n",
    "warnings.filterwarnings(\"ignore\")\n"
   ]
  },
  {
   "cell_type": "code",
   "execution_count": null,
   "metadata": {},
   "outputs": [],
   "source": [
    "parent_directory = os.path.abspath(os.path.join(os.path.dirname(os.path.abspath(os.getcLF())),'')) # For adding the project URI as a Python PATH.\n",
    "\n",
    "downloader = CSIN_Client()\n",
    "\n",
    "\n",
    "month_df = pd.read_csv(os.path.join(parent_directory,'utils','mensual_performance_datalist.csv'), index_col=0)\n",
    "actuals_m = pd.read_parquet(os.path.join(parent_directory,'compiled_outputs','merged','CSIN_mensual.parquet'))\n",
    "actuals_m = actuals_m[(actuals_m['reporte'] == 'Plantas_Desempeno') & (actuals_m['date'] >= '2024-01-01')]\n",
    "data_collected = []\n",
    "files = actuals_m['filename'].str.split('|', expand=True).copy()\n",
    "for col in files:\n",
    "    data_collected.append(files[col].dropna().apply(lambda x: '_'.join(x.split('_')[2:-1])).unique().tolist())\n",
    "data_collected = sum(data_collected,[])\n",
    "missing_files = [x for x in month_df['id'].tolist() if x not in data_collected]\n",
    "\n",
    "month_df = month_df[month_df['id'].isin(missing_files)]\n"
   ]
  },
  {
   "cell_type": "code",
   "execution_count": null,
   "metadata": {},
   "outputs": [],
   "source": [
    "csrt_token = downloader.csrt_token\n",
    "import datetime\n",
    "import requests\n",
    "from bs4 import BeautifulSoup\n",
    "\n",
    "session = requests.Session()\n",
    "\n",
    "plantas_mensual_list = \"https://coess.io/app/reportes/mensualperformance/MensualDesempeno\"\n",
    "\n",
    "payload = {\n",
    "    'pageNumber' : '0',\n",
    "    'pageSize' : '100000',\n",
    "    'fromMonthYear' : '2024-01-01',\n",
    "    'toMonthYear' : datetime.date.today().strftime('%Y-%m-%d'),\n",
    "    'usuarios' : '',\n",
    "    'objetoId' : '',\n",
    "    'csrt' : csrt_token\n",
    "}\n",
    "\n",
    "headers = {\n",
    "            'Authorization': f'Bearer {downloader.jwt_token}',\n",
    "            'X-Security-Csrf-Token' : downloader.csrf_token\n",
    "        }\n",
    "\n",
    "response_list = session.get(plantas_mensual_list, params=payload, headers=headers, verify=False)\n",
    "soup_list = BeautifulSoup(response_list.text, 'html.parser')"
   ]
  },
  {
   "cell_type": "code",
   "execution_count": null,
   "metadata": {},
   "outputs": [],
   "source": [
    "\n",
    "summary_page = 1\n",
    "input_size = 2\n",
    "\n",
    "aux = pd.read_html(soup_list.find('table').prettify())\n",
    "num_of_inputs = len(aux[summary_page][0].str.split('  ', expand=True))\n",
    "total_inputs = num_of_inputs*input_size\n",
    "start = summary_page + 1\n",
    "\n",
    "rows_base = [x for x in range(start, start+total_inputs, input_size)]\n",
    "\n",
    "summary = pd.DataFrame()\n",
    "\n",
    "for row in rows_base:\n",
    "    tempo = aux[row].T\n",
    "    tempo.columns = tempo.loc[0,:]\n",
    "    tempo = tempo.drop(index=0).drop(columns=['submittedBy', 'assesmentDueDate'])\n",
    "    summary = pd.concat([summary,tempo]).reset_index(drop=True)\n",
    "\n"
   ]
  }
 ],
 "metadata": {
  "kernelspec": {
   "display_name": "pablo",
   "language": "python",
   "name": "python3"
  },
  "language_info": {
   "codemirror_mode": {
    "name": "ipython",
    "version": 3
   },
   "file_extension": ".py",
   "mimetype": "text/x-python",
   "name": "python",
   "nbconvert_exporter": "python",
   "pygments_lexer": "ipython3",
   "version": "3.11.5"
  }
 },
 "nbformat": 4,
 "nbformat_minor": 2
}
